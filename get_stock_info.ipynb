{
 "cells": [
  {
   "cell_type": "code",
   "execution_count": 1,
   "metadata": {},
   "outputs": [],
   "source": [
    "from bs4 import BeautifulSoup\n",
    "import requests\n",
    "import html\n",
    "import pandas as pd\n",
    "import numpy as np\n",
    "from datetime import datetime"
   ]
  },
  {
   "cell_type": "code",
   "execution_count": 2,
   "metadata": {},
   "outputs": [],
   "source": [
    "stockList = {\n",
    "\"HVN\": [\"http://s.cafef.vn/Lich-su-giao-dich-HVN-1.chn\", {1 : \"Ngày\", 2 : \"Giá Điều Chỉnh\", 4: \"Thay đổi\", 6: \"KL\"}],\n",
    "\"CTX\": [\"http://s.cafef.vn/Lich-su-giao-dich-CTX-1.chn\", {1 : \"Ngày\", 2 : \"Giá Điều Chỉnh\", 4: \"Thay đổi\", 6: \"KL\"}],\n",
    "\"SNZ\": [\"http://s.cafef.vn/Lich-su-giao-dich-SNZ-1.chn\", {1 : \"Ngày\", 2 : \"Giá Điều Chỉnh\", 5: \"Thay đổi\", 7: \"KL\"}]\n",
    "}\n",
    "stockCode = \"SNZ\"\n",
    "link = \"http://s.cafef.vn/Lich-su-giao-dich-SNZ-1.chn\"\n",
    "response = requests.get(link)"
   ]
  },
  {
   "cell_type": "code",
   "execution_count": 3,
   "metadata": {},
   "outputs": [],
   "source": [
    "for (stockCode, item) in stockList.items():\n",
    "    df = pd.DataFrame()\n",
    "    link = item[0]\n",
    "    cols = item[1]\n",
    "    response = requests.get(link)\n",
    "    pageContent = BeautifulSoup(response.content, \"html.parser\")\n",
    "    for (colIndex, colvalue) in cols.items():\n",
    "        value = []\n",
    "        colRaw = pageContent.select(\"tr[id^=ctl00_ContentPlaceHolder1_ctl03] td:nth-of-type(\" + str(colIndex) + \")\")\n",
    "        for row in colRaw:\n",
    "            value.append(row.text.strip())\n",
    "        df[colvalue] = value\n",
    "    now = datetime.now()\n",
    "    nowStr = now.strftime(\"%Y-%m-%d_%H-%M-%S-%f\")\n",
    "    fileName = stockCode + \"_\" + nowStr + \".csv\"\n",
    "    df.to_csv(fileName)"
   ]
  },
  {
   "cell_type": "code",
   "execution_count": null,
   "metadata": {},
   "outputs": [],
   "source": []
  }
 ],
 "metadata": {
  "kernelspec": {
   "display_name": "Python 3",
   "language": "python",
   "name": "python3"
  },
  "language_info": {
   "codemirror_mode": {
    "name": "ipython",
    "version": 3
   },
   "file_extension": ".py",
   "mimetype": "text/x-python",
   "name": "python",
   "nbconvert_exporter": "python",
   "pygments_lexer": "ipython3",
   "version": "3.6.5"
  }
 },
 "nbformat": 4,
 "nbformat_minor": 2
}
