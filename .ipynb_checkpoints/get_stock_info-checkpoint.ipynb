{
 "cells": [
  {
   "cell_type": "code",
   "execution_count": 1,
   "metadata": {},
   "outputs": [],
   "source": [
    "from bs4 import BeautifulSoup\n",
    "import requests\n",
    "import html\n",
    "import pandas as pd\n",
    "import numpy as np\n",
    "from datetime import datetime"
   ]
  },
  {
   "cell_type": "code",
   "execution_count": 2,
   "metadata": {},
   "outputs": [],
   "source": [
    "config = pd.read_excel(\"config.xls\")"
   ]
  },
  {
   "cell_type": "code",
   "execution_count": 3,
   "metadata": {},
   "outputs": [],
   "source": [
    "for index, row in config.iterrows():\n",
    "    stockCode = row['stock_code']\n",
    "    link = row['url']\n",
    "    cols = eval(row['columns'])\n",
    "    pages = row['page']\n",
    "    df = pd.DataFrame()\n",
    "    for page in range(1, pages + 1):\n",
    "        data = {\"ctl00$ContentPlaceHolder1$scriptmanager\": \"ctl00$ContentPlaceHolder1$ctl03$panelAjax|ctl00$ContentPlaceHolder1$ctl03$pager2\",\n",
    "            \"ctl00$ContentPlaceHolder1$ctl03$txtKeyword\": stockCode,\n",
    "            \"__EVENTARGUMENT\": page,\n",
    "            \"__EVENTTARGET\": \"ctl00$ContentPlaceHolder1$ctl03$pager2\"\n",
    "        }\n",
    "        response = requests.post(link, data=data)\n",
    "        pageContent = BeautifulSoup(response.content, \"html.parser\")\n",
    "        df_temp = pd.DataFrame()\n",
    "        for (colIndex, colvalue) in cols.items():\n",
    "            value = []\n",
    "            colRaw = pageContent.select(\"tr[id^=ctl00_ContentPlaceHolder1_ctl03] td:nth-of-type(\" + str(colIndex) + \")\")\n",
    "            for row in colRaw:\n",
    "                value.append(row.text.strip())\n",
    "            df_temp[colvalue] = value\n",
    "        df = pd.concat([df, df_temp], ignore_index = True)\n",
    "    now = datetime.now()\n",
    "    nowStr = now.strftime(\"%Y-%m-%d_%H-%M-%S-%f\")\n",
    "    fileName =  stockCode + \"_\" + nowStr + \".csv\"\n",
    "    df.to_csv(\"data/\" + fileName)"
   ]
  },
  {
   "cell_type": "code",
   "execution_count": 4,
   "metadata": {},
   "outputs": [
    {
     "name": "stdout",
     "output_type": "stream",
     "text": [
      "Success\n"
     ]
    }
   ],
   "source": [
    "print(\"Success\")"
   ]
  },
  {
   "cell_type": "code",
   "execution_count": null,
   "metadata": {},
   "outputs": [],
   "source": []
  }
 ],
 "metadata": {
  "kernelspec": {
   "display_name": "Python 3",
   "language": "python",
   "name": "python3"
  },
  "language_info": {
   "codemirror_mode": {
    "name": "ipython",
    "version": 3
   },
   "file_extension": ".py",
   "mimetype": "text/x-python",
   "name": "python",
   "nbconvert_exporter": "python",
   "pygments_lexer": "ipython3",
   "version": "3.6.5"
  }
 },
 "nbformat": 4,
 "nbformat_minor": 2
}
